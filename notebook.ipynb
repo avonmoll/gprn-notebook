{
 "cells": [
  {
   "cell_type": "code",
   "execution_count": 1,
   "metadata": {
    "collapsed": true
   },
   "outputs": [
    {
     "name": "stderr",
     "output_type": "stream",
     "text": [
      "/home/main/anaconda2/envs/python3/lib/python3.5/site-packages/matplotlib/font_manager.py:273: UserWarning: Matplotlib is building the font cache using fc-list. This may take a moment.\n",
      "  warnings.warn('Matplotlib is building the font cache using fc-list. This may take a moment.')\n",
      "/home/main/anaconda2/envs/python3/lib/python3.5/site-packages/matplotlib/font_manager.py:273: UserWarning: Matplotlib is building the font cache using fc-list. This may take a moment.\n",
      "  warnings.warn('Matplotlib is building the font cache using fc-list. This may take a moment.')\n"
     ]
    }
   ],
   "source": [
    "%matplotlib inline\n",
    "import matplotlib.pyplot as plt\n",
    "import bayespy as bp\n",
    "import numpy as np"
   ]
  },
  {
   "cell_type": "markdown",
   "metadata": {},
   "source": [
    "## Simple Example from [bayespy.org]()"
   ]
  },
  {
   "cell_type": "code",
   "execution_count": 2,
   "metadata": {
    "collapsed": true
   },
   "outputs": [
    {
     "name": "stdout",
     "output_type": "stream",
     "text": [
      "Iteration 1: loglike=-6.005372e+01 (0.002 seconds)\n",
      "Iteration 2: loglike=-5.806491e+01 (0.002 seconds)\n",
      "Iteration 3: loglike=-5.806254e+01 (0.002 seconds)\n",
      "Iteration 4: loglike=-5.806252e+01 (0.002 seconds)\n",
      "Converged at iteration 4.\n"
     ]
    },
    {
     "data": {
      "image/png": "[encoded data removed]",
      "text/plain": [
       "<matplotlib.figure.Figure at 0x7f6f11fa5470>"
      ]
     },
     "metadata": {},
     "output_type": "display_data"
    }
   ],
   "source": [
    "data = np.random.normal(5,10, size=(10,))\n",
    "from bayespy.nodes import GaussianARD, Gamma\n",
    "mu = GaussianARD(0, 1e-6)\n",
    "tau = Gamma(1e-6, 1e-6)\n",
    "y = GaussianARD(mu, tau, plates=(10,))\n",
    "\n",
    "y.observe(data)\n",
    "\n",
    "from bayespy.inference import VB\n",
    "Q = VB(mu, tau, y)\n",
    "Q.update(repeat=20)\n",
    "\n",
    "bp.plot.pyplot.subplot(2,1,1)\n",
    "bp.plot.pdf(mu, np.linspace(-10,20, num=100), name=r'\\mu')\n",
    "bp.plot.pyplot.subplot(2,1,2)\n",
    "bp.plot.pdf(tau, np.linspace(1e-6,.08,num=100), name=r'\\tau')\n",
    "bp.plot.pyplot.tight_layout()\n",
    "bp.plot.pyplot.show()\n"
   ]
  },
  {
   "cell_type": "markdown",
   "metadata": {
    "collapsed": true
   },
   "source": [
    "## Gaussian Process Example"
   ]
  },
  {
   "cell_type": "code",
   "execution_count": 44,
   "metadata": {
    "collapsed": false
   },
   "outputs": [
    {
     "name": "stderr",
     "output_type": "stream",
     "text": [
      "/home/main/anaconda2/envs/python3/lib/python3.5/site-packages/bayespy/inference/vmp/vmp.py:734: UserWarning: Lower bound decreased 6.402258e-06! Bug somewhere or numerical inaccuracy?\n",
      "  \"numerical inaccuracy?\" % L_diff)\n"
     ]
    }
   ],
   "source": [
    "from scipy.spatial import distance\n",
    "\n",
    "\n",
    "# Some 3-dimensional inputs\n",
    "N = 200\n",
    "X = np.random.randn(N, 3)\n",
    "\n",
    "def dist(X):\n",
    "    return distance.squareform(distance.pdist(X))\n",
    "\n",
    "\n",
    "# Squared distance matrix\n",
    "D = dist(X) ** 2\n",
    "\n",
    "idx = 0\n",
    "n_iter = 50\n",
    "gp_len = np.zeros((n_iter,1))\n",
    "gp_mag = np.zeros((n_iter,1))\n",
    "noise_std = np.zeros((n_iter,1))\n",
    "\n",
    "while idx < n_iter:\n",
    "\n",
    "    def exponentiated_square(parameters):\n",
    "        lengthscale = np.exp(parameters[0])\n",
    "        return np.exp(-D/lengthscale) + 1e-6 * np.identity(N)\n",
    "\n",
    "\n",
    "    def d_parameters(d_exponentiated_square, parameters):\n",
    "        \"\"\" Backward gradient of exponentiated square w.r.t. parameters \"\"\"\n",
    "        lengthscale = np.exp(parameters[0])\n",
    "        K = np.exp(-D/lengthscale)\n",
    "        return [\n",
    "            np.sum(d_exponentiated_square * K * D / lengthscale),\n",
    "        ]\n",
    "\n",
    "\n",
    "    def inverse(K):\n",
    "        return np.linalg.inv(K)\n",
    "\n",
    "\n",
    "    def d_covariance(d_inverse, K):\n",
    "        \"\"\" Backward gradient of inverse w.r.t. covariance \"\"\"\n",
    "        invK = np.linalg.inv(K)\n",
    "        return -np.dot(invK, np.dot(d_inverse, invK))\n",
    "\n",
    "\n",
    "    parameters = bp.nodes.MaximumLikelihood(np.log([1]))\n",
    "    Covariance = bp.nodes.Function(\n",
    "        exponentiated_square,\n",
    "        (parameters, d_parameters)\n",
    "    )\n",
    "    Lambda = bp.nodes.Function(\n",
    "        inverse,\n",
    "        (Covariance, d_covariance)\n",
    "    )\n",
    "\n",
    "    magnitude = bp.nodes.Gamma(1e-3, 1e-3)\n",
    "    # magnitude = bp.nodes.Gamma(10, 10)\n",
    "\n",
    "    scaled_Lambda = bp.nodes.Wishart.scale(Lambda, magnitude, ndim=1)\n",
    "\n",
    "    # Latent Gaussian process\n",
    "    latent = bp.nodes.Gaussian(np.zeros(N), scaled_Lambda)\n",
    "\n",
    "    # Observation noise precision\n",
    "    tau = bp.nodes.Gamma(1e-3, 1e-3)\n",
    "\n",
    "    # Observations node\n",
    "    Y = bp.nodes.GaussianARD(latent, tau)\n",
    "\n",
    "    # Create data\n",
    "    K = 10**2 * exponentiated_square(np.log([0.3]))\n",
    "    data = bp.nodes.Gaussian(np.zeros(N), np.linalg.inv(K + 0.1**2*np.identity(N))).random()\n",
    "    Y.observe(data)\n",
    "\n",
    "    # Run inference:\n",
    "    Q = bp.inference.VB(Y, latent, magnitude, tau, parameters)\n",
    "    Q.optimize(parameters, magnitude, tau, collapsed=[latent], maxiter=200, verbose=False)\n",
    "\n",
    "    #print(\"Learned GP lengthscale:\", np.exp(parameters.get_moments()[0]))\n",
    "    #print(\"Learned GP magnitude:\", magnitude.get_moments()[0] ** (-0.5))\n",
    "    #print(\"Learned noise std:\", tau.get_moments()[0] ** (-0.5))\n",
    "    \n",
    "    gp_len[idx] = np.exp(parameters.get_moments()[0])\n",
    "    gp_mag[idx] = magnitude.get_moments()[0]**(-0.5)\n",
    "    noise_std[idx] = tau.get_moments()[0]**(-0.5)\n",
    "    idx = idx + 1\n"
   ]
  },
  {
   "cell_type": "code",
   "execution_count": 46,
   "metadata": {
    "collapsed": false
   },
   "outputs": [
    {
     "data": {
      "text/plain": [
       "[<matplotlib.lines.Line2D at 0x7f6f0e741780>]"
      ]
     },
     "execution_count": 46,
     "metadata": {},
     "output_type": "execute_result"
    },
    {
     "data": {
      "image/png": "[encoded data removed]",
      "text/plain": [
       "<matplotlib.figure.Figure at 0x7f6f0e435048>"
      ]
     },
     "metadata": {},
     "output_type": "display_data"
    },
    {
     "data": {
      "image/png": "[encoded data removed]",
      "text/plain": [
       "<matplotlib.figure.Figure at 0x7f6f0e708d30>"
      ]
     },
     "metadata": {},
     "output_type": "display_data"
    }
   ],
   "source": [
    "plt.scatter(np.log(gp_len), gp_mag)\n",
    "plt.scatter(np.log(0.3), 10, s=50, c=\"red\")\n",
    "plt.figure()\n",
    "n, bins, patches = plt.hist(np.log(noise_std), normed=True)\n",
    "plt.plot([-2]*2, [0, np.max(n)], color=\"red\",linewidth=2)"
   ]
  }
 ],
 "metadata": {
  "kernelspec": {
   "display_name": "Python 2",
   "language": "python",
   "name": "python2"
  },
  "language_info": {
   "codemirror_mode": {
    "name": "ipython",
    "version": 2
   },
   "file_extension": ".py",
   "mimetype": "text/x-python",
   "name": "python",
   "nbconvert_exporter": "python",
   "pygments_lexer": "ipython2",
   "version": "2.7.11"
  }
 },
 "nbformat": 4,
 "nbformat_minor": 0
}
